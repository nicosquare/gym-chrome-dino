{
 "cells": [
  {
   "cell_type": "code",
   "execution_count": null,
   "id": "b1552972",
   "metadata": {},
   "outputs": [],
   "source": [
    "%env DINO_URL=https://chromedino.com/"
   ]
  },
  {
   "cell_type": "code",
   "execution_count": 3,
   "id": "567e57c3",
   "metadata": {},
   "outputs": [
    {
     "name": "stderr",
     "output_type": "stream",
     "text": [
      "/home/madog/Software/anaconda3/envs/ml_project/lib/python3.8/site-packages/gym/logger.py:34: UserWarning: \u001B[33mWARN: Box bound precision lowered by casting to float32\u001B[0m\n",
      "  warnings.warn(colorize(\"%s: %s\" % (\"WARN\", msg % args), \"yellow\"))\n"
     ]
    },
    {
     "name": "stdout",
     "output_type": "stream",
     "text": [
      "0\n",
      "0\n",
      "(array([600.,  99.,   0.,  44.,   0.,   0.,   6.]), 0.1, False, {})\n",
      "0\n",
      "0\n",
      "(array([600., 137.,   0.,  10.,   0.,   0.,   6.]), 0.1, False, {})\n",
      "0\n",
      "0\n",
      "(array([600., 147.,   0.,   4.,   0.,   0.,   6.]), 0.1, False, {})\n",
      "0\n",
      "0\n",
      "(array([600., 131.,   0.,  23.,   0.,   0.,   6.]), 0.1, False, {})\n",
      "0\n",
      "0\n",
      "(array([600., 110.,   0.,  40.,   0.,   0.,   6.]), 0.1, False, {})\n",
      "0\n",
      "0\n",
      "(array([600.,  88.,   0.,  71.,   0.,   0.,   6.]), 0.1, False, {})\n",
      "0\n",
      "1\n",
      "(array([600.,  60.,   1.,  93.,   0.,   0.,   6.]), 0.1, False, {})\n",
      "4\n",
      "6\n",
      "(array([595.,  67.,   6.,  73.,   0.,   0.,   6.]), 0.1, False, {})\n",
      "8\n",
      "8\n",
      "(array([592., 102.,   9.,  41.,   0.,   0.,   6.]), 0.1, False, {})\n",
      "14\n",
      "15\n",
      "(array([586., 139.,  15.,   8.,   0.,   0.,   6.]), 0.1, False, {})\n",
      "18\n",
      "20\n",
      "(array([582., 146.,  20.,   4.,   0.,   0.,   6.]), 0.1, False, {})\n",
      "22\n",
      "22\n",
      "(array([578., 136.,  22.,  18.,   0.,   0.,   6.]), 0.1, False, {})\n",
      "22\n",
      "22\n",
      "(array([578., 104.,  22.,  53.,   0.,   0.,   6.]), 0.1, False, {})\n",
      "22\n",
      "22\n",
      "(array([578.,  71.,  22.,  90.,   0.,   0.,   6.]), 0.1, False, {})\n",
      "22\n",
      "22\n",
      "(array([578.,  77.,  22.,  73.,   0.,   0.,   6.]), 0.1, False, {})\n",
      "22\n",
      "22\n",
      "(array([578.,  77.,  22.,  73.,   0.,   0.,   6.]), 0.1, False, {})\n",
      "22\n",
      "22\n",
      "(array([578.,  77.,  22.,  73.,   0.,   0.,   6.]), 0.1, False, {})\n",
      "22\n",
      "22\n",
      "(array([578., 176.,  22., -27.,   0.,   0.,   6.]), 0.1, False, {})\n",
      "22\n",
      "22\n",
      "(array([578., 170.,  22., -17.,   0.,   0.,   6.]), 0.1, False, {})\n",
      "22\n",
      "22\n",
      "(array([578., 154.,  22.,   1.,   0.,   0.,   6.]), 0.1, False, {})\n",
      "22\n",
      "22\n",
      "(array([578., 129.,  22.,  29.,   0.,   0.,   6.]), 0.1, False, {})\n",
      "22\n",
      "22\n",
      "(array([578.,  62.,  22.,  93.,   0.,   0.,   6.]), 0.1, False, {})\n",
      "22\n",
      "22\n",
      "(array([578.,  67.,  22.,  73.,   0.,   0.,   6.]), 0.1, False, {})\n",
      "22\n",
      "22\n",
      "(array([578., 104.,  22.,  39.,   0.,   0.,   6.]), 0.1, False, {})\n",
      "22\n",
      "22\n",
      "(array([578., 140.,  22.,   5.,   0.,   0.,   6.]), 0.1, False, {})\n",
      "22\n",
      "22\n",
      "(array([578., 147.,  22.,   3.,   0.,   0.,   6.]), 0.1, False, {})\n",
      "22\n",
      "22\n",
      "(array([578., 133.,  22.,  22.,   0.,   0.,   6.]), 0.1, False, {})\n",
      "22\n",
      "22\n"
     ]
    },
    {
     "ename": "TypeError",
     "evalue": "float() argument must be a string or a number, not 'NoneType'",
     "output_type": "error",
     "traceback": [
      "\u001B[0;31m---------------------------------------------------------------------------\u001B[0m",
      "\u001B[0;31mTypeError\u001B[0m                                 Traceback (most recent call last)",
      "\u001B[0;32m/tmp/ipykernel_20484/5130133.py\u001B[0m in \u001B[0;36m<module>\u001B[0;34m\u001B[0m\n\u001B[1;32m     12\u001B[0m     \u001B[0;32mtry\u001B[0m\u001B[0;34m:\u001B[0m\u001B[0;34m\u001B[0m\u001B[0;34m\u001B[0m\u001B[0m\n\u001B[1;32m     13\u001B[0m         \u001B[0;32mif\u001B[0m \u001B[0mrandom\u001B[0m\u001B[0;34m.\u001B[0m\u001B[0muniform\u001B[0m\u001B[0;34m(\u001B[0m\u001B[0;36m0.0\u001B[0m\u001B[0;34m,\u001B[0m\u001B[0;36m1.0\u001B[0m\u001B[0;34m)\u001B[0m \u001B[0;34m>=\u001B[0m \u001B[0;36m0.5\u001B[0m\u001B[0;34m:\u001B[0m\u001B[0;34m\u001B[0m\u001B[0;34m\u001B[0m\u001B[0m\n\u001B[0;32m---> 14\u001B[0;31m             \u001B[0mprint\u001B[0m\u001B[0;34m(\u001B[0m\u001B[0menv\u001B[0m\u001B[0;34m.\u001B[0m\u001B[0mstep\u001B[0m\u001B[0;34m(\u001B[0m\u001B[0;36m1\u001B[0m\u001B[0;34m)\u001B[0m\u001B[0;34m)\u001B[0m\u001B[0;34m\u001B[0m\u001B[0;34m\u001B[0m\u001B[0m\n\u001B[0m\u001B[1;32m     15\u001B[0m         \u001B[0;32melse\u001B[0m \u001B[0;34m:\u001B[0m\u001B[0;34m\u001B[0m\u001B[0;34m\u001B[0m\u001B[0m\n\u001B[1;32m     16\u001B[0m             \u001B[0mprint\u001B[0m\u001B[0;34m(\u001B[0m\u001B[0menv\u001B[0m\u001B[0;34m.\u001B[0m\u001B[0mstep\u001B[0m\u001B[0;34m(\u001B[0m\u001B[0;36m0\u001B[0m\u001B[0;34m)\u001B[0m\u001B[0;34m)\u001B[0m\u001B[0;34m\u001B[0m\u001B[0;34m\u001B[0m\u001B[0m\n",
      "\u001B[0;32m~/Dev/repos/mbzuai/gym-chrome-dino/gym_chrome_dino/envs/chrome_dino_env.py\u001B[0m in \u001B[0;36mstep\u001B[0;34m(self, action)\u001B[0m\n\u001B[1;32m    144\u001B[0m         \u001B[0;32mif\u001B[0m \u001B[0maction\u001B[0m \u001B[0;34m==\u001B[0m \u001B[0;36m3\u001B[0m\u001B[0;34m:\u001B[0m\u001B[0;34m\u001B[0m\u001B[0;34m\u001B[0m\u001B[0m\n\u001B[1;32m    145\u001B[0m             \u001B[0mself\u001B[0m\u001B[0;34m.\u001B[0m\u001B[0mgame\u001B[0m\u001B[0;34m.\u001B[0m\u001B[0mpress_space\u001B[0m\u001B[0;34m(\u001B[0m\u001B[0;34m)\u001B[0m\u001B[0;34m\u001B[0m\u001B[0;34m\u001B[0m\u001B[0m\n\u001B[0;32m--> 146\u001B[0;31m         \u001B[0mobservation\u001B[0m \u001B[0;34m=\u001B[0m \u001B[0mself\u001B[0m\u001B[0;34m.\u001B[0m\u001B[0m_observe\u001B[0m\u001B[0;34m(\u001B[0m\u001B[0;34m)\u001B[0m\u001B[0;34m\u001B[0m\u001B[0;34m\u001B[0m\u001B[0m\n\u001B[0m\u001B[1;32m    147\u001B[0m         \u001B[0mreward\u001B[0m \u001B[0;34m=\u001B[0m \u001B[0mself\u001B[0m\u001B[0;34m.\u001B[0m\u001B[0mgametime_reward\u001B[0m\u001B[0;34m\u001B[0m\u001B[0;34m\u001B[0m\u001B[0m\n\u001B[1;32m    148\u001B[0m         \u001B[0mdone\u001B[0m \u001B[0;34m=\u001B[0m \u001B[0;32mFalse\u001B[0m\u001B[0;34m\u001B[0m\u001B[0;34m\u001B[0m\u001B[0m\n",
      "\u001B[0;32m~/Dev/repos/mbzuai/gym-chrome-dino/gym_chrome_dino/envs/chrome_dino_env.py\u001B[0m in \u001B[0;36m_observe\u001B[0;34m(self)\u001B[0m\n\u001B[1;32m    120\u001B[0m         \u001B[0mobstacle_y_distance\u001B[0m \u001B[0;34m=\u001B[0m \u001B[0mfloat\u001B[0m\u001B[0;34m(\u001B[0m\u001B[0mself\u001B[0m\u001B[0;34m.\u001B[0m\u001B[0mgame\u001B[0m\u001B[0;34m.\u001B[0m\u001B[0mget_nearest_obstacle_y_distance\u001B[0m\u001B[0;34m(\u001B[0m\u001B[0;34m)\u001B[0m\u001B[0;34m)\u001B[0m\u001B[0;34m\u001B[0m\u001B[0;34m\u001B[0m\u001B[0m\n\u001B[1;32m    121\u001B[0m         \u001B[0mdino_position_x\u001B[0m \u001B[0;34m=\u001B[0m \u001B[0mfloat\u001B[0m\u001B[0;34m(\u001B[0m\u001B[0mself\u001B[0m\u001B[0;34m.\u001B[0m\u001B[0mgame\u001B[0m\u001B[0;34m.\u001B[0m\u001B[0mget_dino_x_position\u001B[0m\u001B[0;34m(\u001B[0m\u001B[0;34m)\u001B[0m\u001B[0;34m)\u001B[0m\u001B[0;34m\u001B[0m\u001B[0;34m\u001B[0m\u001B[0m\n\u001B[0;32m--> 122\u001B[0;31m         \u001B[0mdino_position_y\u001B[0m \u001B[0;34m=\u001B[0m \u001B[0mfloat\u001B[0m\u001B[0;34m(\u001B[0m\u001B[0mself\u001B[0m\u001B[0;34m.\u001B[0m\u001B[0mgame\u001B[0m\u001B[0;34m.\u001B[0m\u001B[0mget_dino_y_position\u001B[0m\u001B[0;34m(\u001B[0m\u001B[0;34m)\u001B[0m\u001B[0;34m)\u001B[0m\u001B[0;34m\u001B[0m\u001B[0;34m\u001B[0m\u001B[0m\n\u001B[0m\u001B[1;32m    123\u001B[0m         \u001B[0mnext_obstacle_width\u001B[0m \u001B[0;34m=\u001B[0m \u001B[0mfloat\u001B[0m\u001B[0;34m(\u001B[0m\u001B[0mself\u001B[0m\u001B[0;34m.\u001B[0m\u001B[0mgame\u001B[0m\u001B[0;34m.\u001B[0m\u001B[0mget_nearest_obstacle_width\u001B[0m\u001B[0;34m(\u001B[0m\u001B[0;34m)\u001B[0m\u001B[0;34m)\u001B[0m\u001B[0;34m\u001B[0m\u001B[0;34m\u001B[0m\u001B[0m\n\u001B[1;32m    124\u001B[0m         \u001B[0mnext_obstacle_height\u001B[0m \u001B[0;34m=\u001B[0m \u001B[0mfloat\u001B[0m\u001B[0;34m(\u001B[0m\u001B[0mself\u001B[0m\u001B[0;34m.\u001B[0m\u001B[0mgame\u001B[0m\u001B[0;34m.\u001B[0m\u001B[0mget_nearest_obstacle_height\u001B[0m\u001B[0;34m(\u001B[0m\u001B[0;34m)\u001B[0m\u001B[0;34m)\u001B[0m\u001B[0;34m\u001B[0m\u001B[0;34m\u001B[0m\u001B[0m\n",
      "\u001B[0;31mTypeError\u001B[0m: float() argument must be a string or a number, not 'NoneType'"
     ]
    }
   ],
   "source": [
    "import gym\n",
    "from selenium.common.exceptions import WebDriverException, NoSuchWindowException\n",
    "import random\n",
    "import gym_chrome_dino\n",
    "\n",
    "env = gym.make('ChromeDinoGA-v0')\n",
    "\n",
    "game = env.unwrapped.game\n",
    "\n",
    "while True:\n",
    "\n",
    "    try:\n",
    "        if random.uniform(0.0,1.0) >= 0.5:\n",
    "            print(env.step(1))\n",
    "        else :\n",
    "            print(env.step(0))\n",
    "    except (NoSuchWindowException, WebDriverException):\n",
    "        print('User closed the window')\n",
    "        pass"
   ]
  },
  {
   "cell_type": "code",
   "execution_count": null,
   "id": "a88b0319",
   "metadata": {},
   "outputs": [],
   "source": []
  }
 ],
 "metadata": {
  "kernelspec": {
   "display_name": "Python 3 (ipykernel)",
   "language": "python",
   "name": "python3"
  },
  "language_info": {
   "codemirror_mode": {
    "name": "ipython",
    "version": 3
   },
   "file_extension": ".py",
   "mimetype": "text/x-python",
   "name": "python",
   "nbconvert_exporter": "python",
   "pygments_lexer": "ipython3",
   "version": "3.8.12"
  }
 },
 "nbformat": 4,
 "nbformat_minor": 5
}